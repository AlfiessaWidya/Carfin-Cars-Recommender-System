{
 "cells": [
  {
   "cell_type": "markdown",
   "id": "f893fa99",
   "metadata": {},
   "source": [
    "# Fine-Tuning GPT-4 with OpenAI API"
   ]
  },
  {
   "cell_type": "code",
   "execution_count": 2,
   "id": "294f1589",
   "metadata": {},
   "outputs": [],
   "source": [
    "\n",
    "# Install necessary libraries\n",
    "import jsonlines\n",
    "import json\n",
    "import openai\n",
    "import os\n",
    "import pandas as pd\n",
    "from pprint import pprint\n",
    "from openai import OpenAI"
   ]
  },
  {
   "cell_type": "markdown",
   "id": "fdfa0155",
   "metadata": {},
   "source": [
    "## Set Up API Key"
   ]
  },
  {
   "cell_type": "code",
   "execution_count": 3,
   "id": "847bf568",
   "metadata": {},
   "outputs": [],
   "source": [
    "client = OpenAI(\n",
    "    api_key=\"API KEY OPENAI\",\n",
    ")"
   ]
  },
  {
   "cell_type": "markdown",
   "id": "1bba6f1f",
   "metadata": {},
   "source": [
    "## Load Fine-Tuning Data"
   ]
  },
  {
   "cell_type": "code",
   "execution_count": 4,
   "id": "3161266c",
   "metadata": {},
   "outputs": [],
   "source": [
    "# Load and validate your .jsonl file for conversational fine-tuning\n",
    "training_file_name = \"cars_data_training.jsonl\"\n",
    "\n",
    "validation_file_name = \"cars_data_validation.jsonl\""
   ]
  },
  {
   "cell_type": "markdown",
   "id": "8466c7fd",
   "metadata": {},
   "source": [
    "## Upload File to OpenAI for Fine-Tuning"
   ]
  },
  {
   "cell_type": "code",
   "execution_count": 4,
   "id": "880ed469",
   "metadata": {},
   "outputs": [
    {
     "name": "stdout",
     "output_type": "stream",
     "text": [
      "Training file ID: file-eS1WYcMl3ELA03QEPPQfyn5n\n",
      "Validation file ID: file-yl1pCUSxjz09v7ttQpFWgjWt\n"
     ]
    }
   ],
   "source": [
    "def upload_file(file_name: str, purpose: str) -> str:\n",
    "    with open(file_name, \"rb\") as file_fd:\n",
    "        response = client.files.create(file=file_fd, purpose=purpose)\n",
    "    return response.id\n",
    "\n",
    "\n",
    "training_file_id = upload_file(training_file_name, \"fine-tune\")\n",
    "validation_file_id = upload_file(validation_file_name, \"fine-tune\")\n",
    "\n",
    "print(\"Training file ID:\", training_file_id)\n",
    "print(\"Validation file ID:\", validation_file_id)"
   ]
  },
  {
   "cell_type": "markdown",
   "id": "a80b0097",
   "metadata": {},
   "source": [
    "## Start Fine-Tuning Job"
   ]
  },
  {
   "cell_type": "code",
   "execution_count": 5,
   "id": "7fdbb007",
   "metadata": {},
   "outputs": [
    {
     "name": "stdout",
     "output_type": "stream",
     "text": [
      "Job ID: ftjob-SRgkf44mbpLHqAitPDFOVjq6\n",
      "Status: validating_files\n"
     ]
    }
   ],
   "source": [
    "# Create the fine-tuning job\n",
    "MODEL = \"gpt-4o-2024-08-06\" # BISA DIMODIFIKASI DENGAN MODEL YANG LAIN SESUAI KEBUTUHAN\n",
    "\n",
    "response = client.fine_tuning.jobs.create(\n",
    "    training_file=training_file_id,\n",
    "    validation_file=validation_file_id,\n",
    "    model=MODEL,\n",
    "    suffix=\"car-product\", # BISA DIMODIFIKASI SESUAI DOMAIN REKOMENDASI\n",
    ")\n",
    "\n",
    "job_id = response.id\n",
    "\n",
    "print(\"Job ID:\", response.id)\n",
    "print(\"Status:\", response.status)"
   ]
  },
  {
   "cell_type": "code",
   "execution_count": 6,
   "id": "c37ff55c",
   "metadata": {},
   "outputs": [
    {
     "name": "stdout",
     "output_type": "stream",
     "text": [
      "Job ID: ftjob-SRgkf44mbpLHqAitPDFOVjq6\n",
      "Status: validating_files\n",
      "Trained Tokens: None\n"
     ]
    }
   ],
   "source": [
    "# Check job status\n",
    "response = client.fine_tuning.jobs.retrieve(job_id)\n",
    "\n",
    "print(\"Job ID:\", response.id)\n",
    "print(\"Status:\", response.status)\n",
    "print(\"Trained Tokens:\", response.trained_tokens)"
   ]
  },
  {
   "cell_type": "code",
   "execution_count": 7,
   "id": "41154c0b",
   "metadata": {},
   "outputs": [
    {
     "name": "stdout",
     "output_type": "stream",
     "text": [
      "Created fine-tuning job: ftjob-SRgkf44mbpLHqAitPDFOVjq6\n",
      "Validating training file: file-eS1WYcMl3ELA03QEPPQfyn5n and validation file: file-yl1pCUSxjz09v7ttQpFWgjWt\n"
     ]
    }
   ],
   "source": [
    "# Track the progress\n",
    "response = client.fine_tuning.jobs.list_events(job_id)\n",
    "\n",
    "events = response.data\n",
    "events.reverse()\n",
    "\n",
    "for event in events:\n",
    "    print(event.message)"
   ]
  },
  {
   "cell_type": "code",
   "execution_count": 9,
   "id": "c9eb534c",
   "metadata": {},
   "outputs": [
    {
     "name": "stdout",
     "output_type": "stream",
     "text": [
      "Fine-tuned model ID: ft:gpt-4o-2024-08-06:project-ta:car-product:AWHjeoF0\n"
     ]
    }
   ],
   "source": [
    "# Fine-tuned model ID\n",
    "response = client.fine_tuning.jobs.retrieve(job_id)\n",
    "fine_tuned_model_id = response.fine_tuned_model\n",
    "\n",
    "if fine_tuned_model_id is None:\n",
    "    raise RuntimeError(\n",
    "        \"Fine-tuned model ID not found. Your job has likely not been completed yet.\"\n",
    "    )\n",
    "\n",
    "print(\"Fine-tuned model ID:\", fine_tuned_model_id)"
   ]
  }
 ],
 "metadata": {
  "kernelspec": {
   "display_name": "Python 3",
   "language": "python",
   "name": "python3"
  },
  "language_info": {
   "codemirror_mode": {
    "name": "ipython",
    "version": 3
   },
   "file_extension": ".py",
   "mimetype": "text/x-python",
   "name": "python",
   "nbconvert_exporter": "python",
   "pygments_lexer": "ipython3",
   "version": "3.11.6"
  }
 },
 "nbformat": 4,
 "nbformat_minor": 5
}
